{
 "cells": [
  {
   "cell_type": "code",
   "execution_count": 1,
   "metadata": {},
   "outputs": [
    {
     "name": "stdout",
     "output_type": "stream",
     "text": [
      "WARNING:tensorflow:From c:\\Users\\saidi\\AppData\\Local\\Programs\\Python\\Python311\\Lib\\site-packages\\keras\\src\\losses.py:2976: The name tf.losses.sparse_softmax_cross_entropy is deprecated. Please use tf.compat.v1.losses.sparse_softmax_cross_entropy instead.\n",
      "\n"
     ]
    }
   ],
   "source": [
    "import tensorflow as tf\n",
    "import numpy as np\n",
    "import random"
   ]
  },
  {
   "cell_type": "code",
   "execution_count": 2,
   "metadata": {},
   "outputs": [],
   "source": [
    "def get_data():\n",
    "    with open(\"drug_side_effects.csv\",encoding=\"utf8\") as file:\n",
    "        names = file.readline().split()\n",
    "        train = np.zeros((200, 5))\n",
    "        labels = np.zeros((200, 1))\n",
    "        arr = file.readlines()\n",
    "        random.shuffle(arr)\n",
    "        for i, line in enumerate(arr):\n",
    "            age, sex, bp, ch, na, drug = line.strip().split(',')\n",
    "            age = int(age)\n",
    "            sex = 0 if sex == \"F\" else 1\n",
    "            bp = -1 if bp == \"LOW\" else 0 if bp == \"NORMAL\" else 1\n",
    "            ch = 0 if ch == \"NORMAL\" else 1\n",
    "            na = float(na)\n",
    "            drug = {\"druga\": 0, \"drugb\": 1, \"drugc\": 2, \"drugx\": 3, \"drugy\": 4}[drug.lower()]\n",
    "            train[i] = age, sex, bp, ch, na\n",
    "            labels[i] = drug  # Assign the drug label to the labels array\n",
    "        mean = train.mean(axis=0)\n",
    "        train -= mean\n",
    "        std = train.std(axis=0)\n",
    "        train /= std\n",
    "        return train, labels"
   ]
  },
  {
   "cell_type": "code",
   "execution_count": 3,
   "metadata": {},
   "outputs": [],
   "source": [
    "\n",
    "def get_model():\n",
    "    inputs = tf.keras.Input(shape=(5,))\n",
    "    x = tf.keras.layers.Dense(32, activation=\"relu\")(inputs)\n",
    "    x = tf.keras.layers.Dense(32, activation=\"relu\")(x)\n",
    "    outputs = tf.keras.layers.Dense(5, activation=\"softmax\")(x)\n",
    "    return tf.keras.Model(inputs=inputs, outputs=outputs)"
   ]
  },
  {
   "cell_type": "code",
   "execution_count": 4,
   "metadata": {},
   "outputs": [
    {
     "name": "stdout",
     "output_type": "stream",
     "text": [
      "WARNING:tensorflow:From c:\\Users\\saidi\\AppData\\Local\\Programs\\Python\\Python311\\Lib\\site-packages\\keras\\src\\backend.py:1398: The name tf.executing_eagerly_outside_functions is deprecated. Please use tf.compat.v1.executing_eagerly_outside_functions instead.\n",
      "\n",
      "WARNING:tensorflow:From c:\\Users\\saidi\\AppData\\Local\\Programs\\Python\\Python311\\Lib\\site-packages\\keras\\src\\optimizers\\__init__.py:309: The name tf.train.Optimizer is deprecated. Please use tf.compat.v1.train.Optimizer instead.\n",
      "\n",
      "Epoch 1/30\n",
      "WARNING:tensorflow:From c:\\Users\\saidi\\AppData\\Local\\Programs\\Python\\Python311\\Lib\\site-packages\\keras\\src\\utils\\tf_utils.py:492: The name tf.ragged.RaggedTensorValue is deprecated. Please use tf.compat.v1.ragged.RaggedTensorValue instead.\n",
      "\n",
      "WARNING:tensorflow:From c:\\Users\\saidi\\AppData\\Local\\Programs\\Python\\Python311\\Lib\\site-packages\\keras\\src\\engine\\base_layer_utils.py:384: The name tf.executing_eagerly_outside_functions is deprecated. Please use tf.compat.v1.executing_eagerly_outside_functions instead.\n",
      "\n",
      "1/5 [=====>........................] - ETA: 2s - loss: 1.6015 - accuracy: 0.0625INFO:tensorflow:Assets written to: Drug.tf\\assets\n"
     ]
    },
    {
     "name": "stderr",
     "output_type": "stream",
     "text": [
      "INFO:tensorflow:Assets written to: Drug.tf\\assets\n"
     ]
    },
    {
     "name": "stdout",
     "output_type": "stream",
     "text": [
      "5/5 [==============================] - 2s 280ms/step - loss: 1.5472 - accuracy: 0.2067 - val_loss: 1.4301 - val_accuracy: 0.4800\n",
      "Epoch 2/30\n",
      "1/5 [=====>........................] - ETA: 0s - loss: 1.5578 - accuracy: 0.2500INFO:tensorflow:Assets written to: Drug.tf\\assets\n"
     ]
    },
    {
     "name": "stderr",
     "output_type": "stream",
     "text": [
      "INFO:tensorflow:Assets written to: Drug.tf\\assets\n"
     ]
    },
    {
     "name": "stdout",
     "output_type": "stream",
     "text": [
      "5/5 [==============================] - 1s 150ms/step - loss: 1.4534 - accuracy: 0.4067 - val_loss: 1.3565 - val_accuracy: 0.6200\n",
      "Epoch 3/30\n",
      "1/5 [=====>........................] - ETA: 0s - loss: 1.4120 - accuracy: 0.5312INFO:tensorflow:Assets written to: Drug.tf\\assets\n"
     ]
    },
    {
     "name": "stderr",
     "output_type": "stream",
     "text": [
      "INFO:tensorflow:Assets written to: Drug.tf\\assets\n"
     ]
    },
    {
     "name": "stdout",
     "output_type": "stream",
     "text": [
      "5/5 [==============================] - 1s 163ms/step - loss: 1.3898 - accuracy: 0.5267 - val_loss: 1.2982 - val_accuracy: 0.6400\n",
      "Epoch 4/30\n",
      "1/5 [=====>........................] - ETA: 0s - loss: 1.3329 - accuracy: 0.6250INFO:tensorflow:Assets written to: Drug.tf\\assets\n"
     ]
    },
    {
     "name": "stderr",
     "output_type": "stream",
     "text": [
      "INFO:tensorflow:Assets written to: Drug.tf\\assets\n"
     ]
    },
    {
     "name": "stdout",
     "output_type": "stream",
     "text": [
      "5/5 [==============================] - 1s 211ms/step - loss: 1.3365 - accuracy: 0.5600 - val_loss: 1.2455 - val_accuracy: 0.6600\n",
      "Epoch 5/30\n",
      "1/5 [=====>........................] - ETA: 0s - loss: 1.3614 - accuracy: 0.6250INFO:tensorflow:Assets written to: Drug.tf\\assets\n"
     ]
    },
    {
     "name": "stderr",
     "output_type": "stream",
     "text": [
      "INFO:tensorflow:Assets written to: Drug.tf\\assets\n"
     ]
    },
    {
     "name": "stdout",
     "output_type": "stream",
     "text": [
      "5/5 [==============================] - 1s 155ms/step - loss: 1.2888 - accuracy: 0.5933 - val_loss: 1.1952 - val_accuracy: 0.6600\n",
      "Epoch 6/30\n",
      "1/5 [=====>........................] - ETA: 0s - loss: 1.3015 - accuracy: 0.5938INFO:tensorflow:Assets written to: Drug.tf\\assets\n"
     ]
    },
    {
     "name": "stderr",
     "output_type": "stream",
     "text": [
      "INFO:tensorflow:Assets written to: Drug.tf\\assets\n"
     ]
    },
    {
     "name": "stdout",
     "output_type": "stream",
     "text": [
      "5/5 [==============================] - 1s 210ms/step - loss: 1.2427 - accuracy: 0.6133 - val_loss: 1.1482 - val_accuracy: 0.7200\n",
      "Epoch 7/30\n",
      "1/5 [=====>........................] - ETA: 0s - loss: 1.2268 - accuracy: 0.5938INFO:tensorflow:Assets written to: Drug.tf\\assets\n"
     ]
    },
    {
     "name": "stderr",
     "output_type": "stream",
     "text": [
      "INFO:tensorflow:Assets written to: Drug.tf\\assets\n"
     ]
    },
    {
     "name": "stdout",
     "output_type": "stream",
     "text": [
      "5/5 [==============================] - 1s 165ms/step - loss: 1.1992 - accuracy: 0.6400 - val_loss: 1.1000 - val_accuracy: 0.7200\n",
      "Epoch 8/30\n",
      "1/5 [=====>........................] - ETA: 0s - loss: 1.1680 - accuracy: 0.5625INFO:tensorflow:Assets written to: Drug.tf\\assets\n"
     ]
    },
    {
     "name": "stderr",
     "output_type": "stream",
     "text": [
      "INFO:tensorflow:Assets written to: Drug.tf\\assets\n"
     ]
    },
    {
     "name": "stdout",
     "output_type": "stream",
     "text": [
      "5/5 [==============================] - 1s 212ms/step - loss: 1.1557 - accuracy: 0.6533 - val_loss: 1.0537 - val_accuracy: 0.7400\n",
      "Epoch 9/30\n",
      "1/5 [=====>........................] - ETA: 0s - loss: 1.1230 - accuracy: 0.7188INFO:tensorflow:Assets written to: Drug.tf\\assets\n"
     ]
    },
    {
     "name": "stderr",
     "output_type": "stream",
     "text": [
      "INFO:tensorflow:Assets written to: Drug.tf\\assets\n"
     ]
    },
    {
     "name": "stdout",
     "output_type": "stream",
     "text": [
      "5/5 [==============================] - 1s 157ms/step - loss: 1.1151 - accuracy: 0.6533 - val_loss: 1.0103 - val_accuracy: 0.7600\n",
      "Epoch 10/30\n",
      "1/5 [=====>........................] - ETA: 0s - loss: 1.0222 - accuracy: 0.7500INFO:tensorflow:Assets written to: Drug.tf\\assets\n"
     ]
    },
    {
     "name": "stderr",
     "output_type": "stream",
     "text": [
      "INFO:tensorflow:Assets written to: Drug.tf\\assets\n"
     ]
    },
    {
     "name": "stdout",
     "output_type": "stream",
     "text": [
      "5/5 [==============================] - 1s 214ms/step - loss: 1.0763 - accuracy: 0.6600 - val_loss: 0.9721 - val_accuracy: 0.7800\n",
      "Epoch 11/30\n",
      "1/5 [=====>........................] - ETA: 0s - loss: 1.0059 - accuracy: 0.7500INFO:tensorflow:Assets written to: Drug.tf\\assets\n"
     ]
    },
    {
     "name": "stderr",
     "output_type": "stream",
     "text": [
      "INFO:tensorflow:Assets written to: Drug.tf\\assets\n"
     ]
    },
    {
     "name": "stdout",
     "output_type": "stream",
     "text": [
      "5/5 [==============================] - 1s 182ms/step - loss: 1.0368 - accuracy: 0.6933 - val_loss: 0.9335 - val_accuracy: 0.7800\n",
      "Epoch 12/30\n",
      "1/5 [=====>........................] - ETA: 0s - loss: 1.0644 - accuracy: 0.6250INFO:tensorflow:Assets written to: Drug.tf\\assets\n"
     ]
    },
    {
     "name": "stderr",
     "output_type": "stream",
     "text": [
      "INFO:tensorflow:Assets written to: Drug.tf\\assets\n"
     ]
    },
    {
     "name": "stdout",
     "output_type": "stream",
     "text": [
      "5/5 [==============================] - 1s 179ms/step - loss: 1.0003 - accuracy: 0.7000 - val_loss: 0.8948 - val_accuracy: 0.8000\n",
      "Epoch 13/30\n",
      "1/5 [=====>........................] - ETA: 0s - loss: 1.1057 - accuracy: 0.6875INFO:tensorflow:Assets written to: Drug.tf\\assets\n"
     ]
    },
    {
     "name": "stderr",
     "output_type": "stream",
     "text": [
      "INFO:tensorflow:Assets written to: Drug.tf\\assets\n"
     ]
    },
    {
     "name": "stdout",
     "output_type": "stream",
     "text": [
      "5/5 [==============================] - 1s 186ms/step - loss: 0.9628 - accuracy: 0.7133 - val_loss: 0.8566 - val_accuracy: 0.8200\n",
      "Epoch 14/30\n",
      "1/5 [=====>........................] - ETA: 0s - loss: 0.9514 - accuracy: 0.7188INFO:tensorflow:Assets written to: Drug.tf\\assets\n"
     ]
    },
    {
     "name": "stderr",
     "output_type": "stream",
     "text": [
      "INFO:tensorflow:Assets written to: Drug.tf\\assets\n"
     ]
    },
    {
     "name": "stdout",
     "output_type": "stream",
     "text": [
      "5/5 [==============================] - 1s 154ms/step - loss: 0.9270 - accuracy: 0.7333 - val_loss: 0.8215 - val_accuracy: 0.8200\n",
      "Epoch 15/30\n",
      "1/5 [=====>........................] - ETA: 0s - loss: 0.8737 - accuracy: 0.6875INFO:tensorflow:Assets written to: Drug.tf\\assets\n"
     ]
    },
    {
     "name": "stderr",
     "output_type": "stream",
     "text": [
      "INFO:tensorflow:Assets written to: Drug.tf\\assets\n"
     ]
    },
    {
     "name": "stdout",
     "output_type": "stream",
     "text": [
      "5/5 [==============================] - 1s 171ms/step - loss: 0.8935 - accuracy: 0.7333 - val_loss: 0.7894 - val_accuracy: 0.8400\n",
      "Epoch 16/30\n",
      "1/5 [=====>........................] - ETA: 0s - loss: 0.9288 - accuracy: 0.7188INFO:tensorflow:Assets written to: Drug.tf\\assets\n"
     ]
    },
    {
     "name": "stderr",
     "output_type": "stream",
     "text": [
      "INFO:tensorflow:Assets written to: Drug.tf\\assets\n"
     ]
    },
    {
     "name": "stdout",
     "output_type": "stream",
     "text": [
      "5/5 [==============================] - 1s 153ms/step - loss: 0.8592 - accuracy: 0.7400 - val_loss: 0.7561 - val_accuracy: 0.8400\n",
      "Epoch 17/30\n",
      "1/5 [=====>........................] - ETA: 0s - loss: 0.9168 - accuracy: 0.7188INFO:tensorflow:Assets written to: Drug.tf\\assets\n"
     ]
    },
    {
     "name": "stderr",
     "output_type": "stream",
     "text": [
      "INFO:tensorflow:Assets written to: Drug.tf\\assets\n"
     ]
    },
    {
     "name": "stdout",
     "output_type": "stream",
     "text": [
      "5/5 [==============================] - 1s 211ms/step - loss: 0.8264 - accuracy: 0.7600 - val_loss: 0.7260 - val_accuracy: 0.8400\n",
      "Epoch 18/30\n",
      "1/5 [=====>........................] - ETA: 0s - loss: 0.7331 - accuracy: 0.8125INFO:tensorflow:Assets written to: Drug.tf\\assets\n"
     ]
    },
    {
     "name": "stderr",
     "output_type": "stream",
     "text": [
      "INFO:tensorflow:Assets written to: Drug.tf\\assets\n"
     ]
    },
    {
     "name": "stdout",
     "output_type": "stream",
     "text": [
      "5/5 [==============================] - 1s 159ms/step - loss: 0.7930 - accuracy: 0.7733 - val_loss: 0.6972 - val_accuracy: 0.8400\n",
      "Epoch 19/30\n",
      "1/5 [=====>........................] - ETA: 0s - loss: 0.8876 - accuracy: 0.7500INFO:tensorflow:Assets written to: Drug.tf\\assets\n"
     ]
    },
    {
     "name": "stderr",
     "output_type": "stream",
     "text": [
      "INFO:tensorflow:Assets written to: Drug.tf\\assets\n"
     ]
    },
    {
     "name": "stdout",
     "output_type": "stream",
     "text": [
      "5/5 [==============================] - 1s 168ms/step - loss: 0.7632 - accuracy: 0.7800 - val_loss: 0.6700 - val_accuracy: 0.8400\n",
      "Epoch 20/30\n",
      "1/5 [=====>........................] - ETA: 0s - loss: 0.6917 - accuracy: 0.8438INFO:tensorflow:Assets written to: Drug.tf\\assets\n"
     ]
    },
    {
     "name": "stderr",
     "output_type": "stream",
     "text": [
      "INFO:tensorflow:Assets written to: Drug.tf\\assets\n"
     ]
    },
    {
     "name": "stdout",
     "output_type": "stream",
     "text": [
      "5/5 [==============================] - 1s 232ms/step - loss: 0.7328 - accuracy: 0.7933 - val_loss: 0.6462 - val_accuracy: 0.8400\n",
      "Epoch 21/30\n",
      "1/5 [=====>........................] - ETA: 0s - loss: 0.8157 - accuracy: 0.7500INFO:tensorflow:Assets written to: Drug.tf\\assets\n"
     ]
    },
    {
     "name": "stderr",
     "output_type": "stream",
     "text": [
      "INFO:tensorflow:Assets written to: Drug.tf\\assets\n"
     ]
    },
    {
     "name": "stdout",
     "output_type": "stream",
     "text": [
      "5/5 [==============================] - 1s 175ms/step - loss: 0.7050 - accuracy: 0.7867 - val_loss: 0.6217 - val_accuracy: 0.8600\n",
      "Epoch 22/30\n",
      "1/5 [=====>........................] - ETA: 0s - loss: 0.7425 - accuracy: 0.7500INFO:tensorflow:Assets written to: Drug.tf\\assets\n"
     ]
    },
    {
     "name": "stderr",
     "output_type": "stream",
     "text": [
      "INFO:tensorflow:Assets written to: Drug.tf\\assets\n"
     ]
    },
    {
     "name": "stdout",
     "output_type": "stream",
     "text": [
      "5/5 [==============================] - 1s 213ms/step - loss: 0.6750 - accuracy: 0.8000 - val_loss: 0.5961 - val_accuracy: 0.8800\n",
      "Epoch 23/30\n",
      "1/5 [=====>........................] - ETA: 0s - loss: 0.6238 - accuracy: 0.7812INFO:tensorflow:Assets written to: Drug.tf\\assets\n"
     ]
    },
    {
     "name": "stderr",
     "output_type": "stream",
     "text": [
      "INFO:tensorflow:Assets written to: Drug.tf\\assets\n"
     ]
    },
    {
     "name": "stdout",
     "output_type": "stream",
     "text": [
      "5/5 [==============================] - 1s 170ms/step - loss: 0.6483 - accuracy: 0.7933 - val_loss: 0.5737 - val_accuracy: 0.8800\n",
      "Epoch 24/30\n",
      "1/5 [=====>........................] - ETA: 0s - loss: 0.5838 - accuracy: 0.9688INFO:tensorflow:Assets written to: Drug.tf\\assets\n"
     ]
    },
    {
     "name": "stderr",
     "output_type": "stream",
     "text": [
      "INFO:tensorflow:Assets written to: Drug.tf\\assets\n"
     ]
    },
    {
     "name": "stdout",
     "output_type": "stream",
     "text": [
      "5/5 [==============================] - 1s 223ms/step - loss: 0.6227 - accuracy: 0.8267 - val_loss: 0.5522 - val_accuracy: 0.8800\n",
      "Epoch 25/30\n",
      "1/5 [=====>........................] - ETA: 0s - loss: 0.6913 - accuracy: 0.8125INFO:tensorflow:Assets written to: Drug.tf\\assets\n"
     ]
    },
    {
     "name": "stderr",
     "output_type": "stream",
     "text": [
      "INFO:tensorflow:Assets written to: Drug.tf\\assets\n"
     ]
    },
    {
     "name": "stdout",
     "output_type": "stream",
     "text": [
      "5/5 [==============================] - 1s 159ms/step - loss: 0.5957 - accuracy: 0.8333 - val_loss: 0.5317 - val_accuracy: 0.9000\n",
      "Epoch 26/30\n",
      "1/5 [=====>........................] - ETA: 0s - loss: 0.6114 - accuracy: 0.8438INFO:tensorflow:Assets written to: Drug.tf\\assets\n"
     ]
    },
    {
     "name": "stderr",
     "output_type": "stream",
     "text": [
      "INFO:tensorflow:Assets written to: Drug.tf\\assets\n"
     ]
    },
    {
     "name": "stdout",
     "output_type": "stream",
     "text": [
      "5/5 [==============================] - 1s 204ms/step - loss: 0.5703 - accuracy: 0.8333 - val_loss: 0.5108 - val_accuracy: 0.9000\n",
      "Epoch 27/30\n",
      "1/5 [=====>........................] - ETA: 0s - loss: 0.4875 - accuracy: 0.8438INFO:tensorflow:Assets written to: Drug.tf\\assets\n"
     ]
    },
    {
     "name": "stderr",
     "output_type": "stream",
     "text": [
      "INFO:tensorflow:Assets written to: Drug.tf\\assets\n"
     ]
    },
    {
     "name": "stdout",
     "output_type": "stream",
     "text": [
      "5/5 [==============================] - 1s 170ms/step - loss: 0.5445 - accuracy: 0.8400 - val_loss: 0.4889 - val_accuracy: 0.9000\n",
      "Epoch 28/30\n",
      "1/5 [=====>........................] - ETA: 0s - loss: 0.5667 - accuracy: 0.9062INFO:tensorflow:Assets written to: Drug.tf\\assets\n"
     ]
    },
    {
     "name": "stderr",
     "output_type": "stream",
     "text": [
      "INFO:tensorflow:Assets written to: Drug.tf\\assets\n"
     ]
    },
    {
     "name": "stdout",
     "output_type": "stream",
     "text": [
      "5/5 [==============================] - 1s 180ms/step - loss: 0.5214 - accuracy: 0.8600 - val_loss: 0.4727 - val_accuracy: 0.9000\n",
      "Epoch 29/30\n",
      "1/5 [=====>........................] - ETA: 0s - loss: 0.5245 - accuracy: 0.8125INFO:tensorflow:Assets written to: Drug.tf\\assets\n"
     ]
    },
    {
     "name": "stderr",
     "output_type": "stream",
     "text": [
      "INFO:tensorflow:Assets written to: Drug.tf\\assets\n"
     ]
    },
    {
     "name": "stdout",
     "output_type": "stream",
     "text": [
      "5/5 [==============================] - 1s 209ms/step - loss: 0.4976 - accuracy: 0.8600 - val_loss: 0.4543 - val_accuracy: 0.9000\n",
      "Epoch 30/30\n",
      "1/5 [=====>........................] - ETA: 0s - loss: 0.5046 - accuracy: 0.8125INFO:tensorflow:Assets written to: Drug.tf\\assets\n"
     ]
    },
    {
     "name": "stderr",
     "output_type": "stream",
     "text": [
      "INFO:tensorflow:Assets written to: Drug.tf\\assets\n"
     ]
    },
    {
     "name": "stdout",
     "output_type": "stream",
     "text": [
      "5/5 [==============================] - 1s 163ms/step - loss: 0.4741 - accuracy: 0.8800 - val_loss: 0.4364 - val_accuracy: 0.9200\n"
     ]
    }
   ],
   "source": [
    "model = get_model()\n",
    "model.compile(optimizer=\"rmsprop\", loss=\"sparse_categorical_crossentropy\", metrics=\"accuracy\")\n",
    "x, y = get_data()\n",
    "x_train = x[:150]\n",
    "y_train = y[:150]\n",
    "x_val = x[150:]\n",
    "y_val = y[150:]\n",
    "history = model.fit(x=x_train, y=y_train\n",
    "                    , validation_data=(x_val, y_val),\n",
    "                    callbacks=[tf.keras.callbacks.ModelCheckpoint(filepath=\"Drug.tf\", save_best_only=True)], epochs=30)\n"
   ]
  },
  {
   "cell_type": "code",
   "execution_count": 5,
   "metadata": {},
   "outputs": [
    {
     "data": {
      "image/png": "[encoded data removed]",
      "text/plain": [
       "<Figure size 640x480 with 1 Axes>"
      ]
     },
     "metadata": {},
     "output_type": "display_data"
    }
   ],
   "source": [
    "import matplotlib.pyplot as plt\n",
    "\n",
    "# Accessing accuracy from history\n",
    "acc = history.history['accuracy']\n",
    "val_acc = history.history['val_accuracy']\n",
    "\n",
    "# Plotting accuracy\n",
    "epochs = range(1, len(acc) + 1)\n",
    "plt.plot(epochs, acc, 'bo', label='Training accuracy')\n",
    "plt.plot(epochs, val_acc, 'b', label='Validation accuracy')\n",
    "plt.title('Training and validation accuracy')\n",
    "plt.xlabel('Epochs')\n",
    "plt.ylabel('Accuracy')\n",
    "plt.legend()\n",
    "plt.show()\n"
   ]
  },
  {
   "cell_type": "code",
   "execution_count": 7,
   "metadata": {},
   "outputs": [
    {
     "name": "stderr",
     "output_type": "stream",
     "text": [
      "c:\\Users\\saidi\\AppData\\Local\\Programs\\Python\\Python311\\Lib\\site-packages\\keras\\src\\engine\\training.py:3103: UserWarning: You are saving your model as an HDF5 file via `model.save()`. This file format is considered legacy. We recommend using instead the native Keras format, e.g. `model.save('my_model.keras')`.\n",
      "  saving_api.save_model(\n"
     ]
    }
   ],
   "source": [
    "model.save(\"cnn.h5\")"
   ]
  },
  {
   "cell_type": "code",
   "execution_count": 6,
   "metadata": {},
   "outputs": [
    {
     "name": "stdout",
     "output_type": "stream",
     "text": [
      "Final Training Accuracy: 0.8799999952316284\n"
     ]
    }
   ],
   "source": [
    "final_accuracy = history.history['accuracy'][-1]\n",
    "print(\"Final Training Accuracy:\", final_accuracy)"
   ]
  }
 ],
 "metadata": {
  "kernelspec": {
   "display_name": "Python 3",
   "language": "python",
   "name": "python3"
  },
  "language_info": {
   "codemirror_mode": {
    "name": "ipython",
    "version": 3
   },
   "file_extension": ".py",
   "mimetype": "text/x-python",
   "name": "python",
   "nbconvert_exporter": "python",
   "pygments_lexer": "ipython3",
   "version": "3.11.4"
  }
 },
 "nbformat": 4,
 "nbformat_minor": 2
}
