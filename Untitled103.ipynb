{
  "nbformat": 4,
  "nbformat_minor": 0,
  "metadata": {
    "colab": {
      "provenance": []
    },
    "kernelspec": {
      "name": "python3",
      "display_name": "Python 3"
    },
    "language_info": {
      "name": "python"
    }
  },
  "cells": [
    {
      "cell_type": "code",
      "execution_count": null,
      "metadata": {
        "id": "HeAKiFA2yL7N"
      },
      "outputs": [],
      "source": [
        "import tensorflow as tf\n",
        "from tensorflow.keras.models import Sequential\n",
        "from tensorflow.keras.layers import Dense, Dropout, Activation, Flatten, Conv2D, MaxPooling2D, BatchNormalization\n",
        "from tensorflow.keras.layers import ZeroPadding2D\n",
        "from tensorflow.keras.preprocessing.image import ImageDataGenerator"
      ]
    },
    {
      "cell_type": "code",
      "source": [
        "model = Sequential()\n",
        "\n",
        "model.add(Conv2D(64, (9, 9), input_shape=(100,100,3),padding='same'))\n",
        "model.add(BatchNormalization())\n",
        "model.add(Activation('relu'))\n",
        "model.add(MaxPooling2D(pool_size=(2, 2)))\n",
        "\n",
        "model.add(Conv2D(128, (5, 5), padding='same'))\n",
        "model.add(BatchNormalization())\n",
        "model.add(Activation('relu'))\n",
        "model.add(MaxPooling2D(pool_size=(2, 2)))\n",
        "\n",
        "model.add(ZeroPadding2D((1, 1)))\n",
        "model.add(Conv2D(256, (3, 3), padding='same'))\n",
        "model.add(BatchNormalization())\n",
        "model.add(Activation('relu'))\n",
        "model.add(MaxPooling2D(pool_size=(2, 2)))\n",
        "\n",
        "model.add(ZeroPadding2D((1, 1)))\n",
        "model.add(Conv2D(512, (3, 3), padding='same'))\n",
        "model.add(BatchNormalization())\n",
        "model.add(Activation('relu'))\n",
        "\n",
        "model.add(ZeroPadding2D((1, 1)))\n",
        "model.add(Conv2D(512, (3, 3), padding='same'))\n",
        "model.add(BatchNormalization())\n",
        "model.add(Activation('relu'))\n",
        "model.add(MaxPooling2D(pool_size=(2, 2)))\n",
        "\n",
        "model.add(Flatten())\n",
        "model.add(Dense(64))\n",
        "model.add(BatchNormalization())\n",
        "model.add(Activation('relu'))\n",
        "model.add(Dropout(0.5))\n",
        "\n",
        "model.add(Dense(128))\n",
        "model.add(BatchNormalization())\n",
        "model.add(Activation('relu'))\n",
        "model.add(Dropout(0.5))\n",
        "\n",
        "model.add(Dense(1))\n",
        "model.add(BatchNormalization())\n",
        "model.add(Activation('sigmoid'))"
      ],
      "metadata": {
        "id": "dywRY-37yP9z"
      },
      "execution_count": null,
      "outputs": []
    },
    {
      "cell_type": "code",
      "source": [
        "model.summary()"
      ],
      "metadata": {
        "colab": {
          "base_uri": "https://localhost:8080/"
        },
        "id": "Np4C7zhlyb2V",
        "outputId": "db8f4f22-f0c3-452d-a068-a57d79fbf6ec"
      },
      "execution_count": null,
      "outputs": [
        {
          "output_type": "stream",
          "name": "stdout",
          "text": [
            "Model: \"sequential\"\n",
            "_________________________________________________________________\n",
            " Layer (type)                Output Shape              Param #   \n",
            "=================================================================\n",
            " conv2d (Conv2D)             (None, 100, 100, 64)      15616     \n",
            "                                                                 \n",
            " batch_normalization (Batch  (None, 100, 100, 64)      256       \n",
            " Normalization)                                                  \n",
            "                                                                 \n",
            " activation (Activation)     (None, 100, 100, 64)      0         \n",
            "                                                                 \n",
            " max_pooling2d (MaxPooling2  (None, 50, 50, 64)        0         \n",
            " D)                                                              \n",
            "                                                                 \n",
            " conv2d_1 (Conv2D)           (None, 50, 50, 128)       204928    \n",
            "                                                                 \n",
            " batch_normalization_1 (Bat  (None, 50, 50, 128)       512       \n",
            " chNormalization)                                                \n",
            "                                                                 \n",
            " activation_1 (Activation)   (None, 50, 50, 128)       0         \n",
            "                                                                 \n",
            " max_pooling2d_1 (MaxPoolin  (None, 25, 25, 128)       0         \n",
            " g2D)                                                            \n",
            "                                                                 \n",
            " zero_padding2d (ZeroPaddin  (None, 27, 27, 128)       0         \n",
            " g2D)                                                            \n",
            "                                                                 \n",
            " conv2d_2 (Conv2D)           (None, 27, 27, 256)       295168    \n",
            "                                                                 \n",
            " batch_normalization_2 (Bat  (None, 27, 27, 256)       1024      \n",
            " chNormalization)                                                \n",
            "                                                                 \n",
            " activation_2 (Activation)   (None, 27, 27, 256)       0         \n",
            "                                                                 \n",
            " max_pooling2d_2 (MaxPoolin  (None, 13, 13, 256)       0         \n",
            " g2D)                                                            \n",
            "                                                                 \n",
            " zero_padding2d_1 (ZeroPadd  (None, 15, 15, 256)       0         \n",
            " ing2D)                                                          \n",
            "                                                                 \n",
            " conv2d_3 (Conv2D)           (None, 15, 15, 512)       1180160   \n",
            "                                                                 \n",
            " batch_normalization_3 (Bat  (None, 15, 15, 512)       2048      \n",
            " chNormalization)                                                \n",
            "                                                                 \n",
            " activation_3 (Activation)   (None, 15, 15, 512)       0         \n",
            "                                                                 \n",
            " zero_padding2d_2 (ZeroPadd  (None, 17, 17, 512)       0         \n",
            " ing2D)                                                          \n",
            "                                                                 \n",
            " conv2d_4 (Conv2D)           (None, 17, 17, 512)       2359808   \n",
            "                                                                 \n",
            " batch_normalization_4 (Bat  (None, 17, 17, 512)       2048      \n",
            " chNormalization)                                                \n",
            "                                                                 \n",
            " activation_4 (Activation)   (None, 17, 17, 512)       0         \n",
            "                                                                 \n",
            " max_pooling2d_3 (MaxPoolin  (None, 8, 8, 512)         0         \n",
            " g2D)                                                            \n",
            "                                                                 \n",
            " flatten (Flatten)           (None, 32768)             0         \n",
            "                                                                 \n",
            " dense (Dense)               (None, 64)                2097216   \n",
            "                                                                 \n",
            " batch_normalization_5 (Bat  (None, 64)                256       \n",
            " chNormalization)                                                \n",
            "                                                                 \n",
            " activation_5 (Activation)   (None, 64)                0         \n",
            "                                                                 \n",
            " dropout (Dropout)           (None, 64)                0         \n",
            "                                                                 \n",
            " dense_1 (Dense)             (None, 128)               8320      \n",
            "                                                                 \n",
            " batch_normalization_6 (Bat  (None, 128)               512       \n",
            " chNormalization)                                                \n",
            "                                                                 \n",
            " activation_6 (Activation)   (None, 128)               0         \n",
            "                                                                 \n",
            " dropout_1 (Dropout)         (None, 128)               0         \n",
            "                                                                 \n",
            " dense_2 (Dense)             (None, 1)                 129       \n",
            "                                                                 \n",
            " batch_normalization_7 (Bat  (None, 1)                 4         \n",
            " chNormalization)                                                \n",
            "                                                                 \n",
            " activation_7 (Activation)   (None, 1)                 0         \n",
            "                                                                 \n",
            "=================================================================\n",
            "Total params: 6168005 (23.53 MB)\n",
            "Trainable params: 6164675 (23.52 MB)\n",
            "Non-trainable params: 3330 (13.01 KB)\n",
            "_________________________________________________________________\n"
          ]
        }
      ]
    },
    {
      "cell_type": "code",
      "source": [
        "model.compile(loss='binary_crossentropy', optimizer='adam', metrics=['accuracy'])\n",
        "\n",
        "train_datagen = ImageDataGenerator(rescale = 1./255,\n",
        "                                   rotation_range=30,\n",
        "                                   shear_range=0.2,\n",
        "                                   zoom_range=[0.8, 1.2],\n",
        "                                    horizontal_flip=True,\n",
        "#                                     vertical_flip = True,\n",
        "                                    fill_mode='nearest')\n",
        "\n",
        "test_datagen = ImageDataGenerator(rescale = 1./255)\n",
        "\n",
        "training_set = train_datagen.flow_from_directory('/content/drive/MyDrive/train',\n",
        "                                                 target_size = (100, 100),\n",
        "                                                 batch_size = 64,\n",
        "                                                 class_mode = 'binary')\n",
        "\n",
        "test_set = test_datagen.flow_from_directory('/content/drive/MyDrive/valid',\n",
        "                                            target_size = (100, 100),\n",
        "                                            batch_size = 64,\n",
        "                                            class_mode = 'binary')"
      ],
      "metadata": {
        "colab": {
          "base_uri": "https://localhost:8080/"
        },
        "id": "ZSbhFLp3ydRI",
        "outputId": "8ba9c21c-0840-4a0d-9cea-cdc59c858581"
      },
      "execution_count": null,
      "outputs": [
        {
          "output_type": "stream",
          "name": "stdout",
          "text": [
            "Found 120 images belonging to 2 classes.\n",
            "Found 60 images belonging to 2 classes.\n"
          ]
        }
      ]
    },
    {
      "cell_type": "code",
      "source": [
        "my_callbacks = [\n",
        "    # tf.keras.callbacks.EarlyStopping(patience=4, verbose=1),\n",
        "    tf.keras.callbacks.ReduceLROnPlateau(factor=0.1, patience=3, min_lr=0.00001, verbose=1),\n",
        "    tf.keras.callbacks.ModelCheckpoint('my_model2.h5',\n",
        "    verbose=1, save_best_only=True, save_weights_only=False)\n",
        "    ]"
      ],
      "metadata": {
        "id": "rhZ6Sw601tfZ"
      },
      "execution_count": null,
      "outputs": []
    },
    {
      "cell_type": "code",
      "source": [
        "history=model.fit(training_set, epochs=10, validation_data = test_set, callbacks=my_callbacks)"
      ],
      "metadata": {
        "colab": {
          "base_uri": "https://localhost:8080/"
        },
        "id": "mFLWdiM21wds",
        "outputId": "5a7451c1-15d2-4f4d-8de1-10ff2f7624d7"
      },
      "execution_count": null,
      "outputs": [
        {
          "output_type": "stream",
          "name": "stdout",
          "text": [
            "Epoch 1/10\n",
            "2/2 [==============================] - ETA: 0s - loss: 0.4947 - accuracy: 0.8167 \n",
            "Epoch 1: val_loss did not improve from 0.68503\n",
            "2/2 [==============================] - 43s 21s/step - loss: 0.4947 - accuracy: 0.8167 - val_loss: 0.6926 - val_accuracy: 0.5333 - lr: 1.0000e-04\n",
            "Epoch 2/10\n",
            "2/2 [==============================] - ETA: 0s - loss: 0.5040 - accuracy: 0.7667 \n",
            "Epoch 2: val_loss did not improve from 0.68503\n",
            "2/2 [==============================] - 40s 20s/step - loss: 0.5040 - accuracy: 0.7667 - val_loss: 0.6958 - val_accuracy: 0.4500 - lr: 1.0000e-04\n",
            "Epoch 3/10\n",
            "2/2 [==============================] - ETA: 0s - loss: 0.4908 - accuracy: 0.7750 \n",
            "Epoch 3: val_loss did not improve from 0.68503\n",
            "2/2 [==============================] - 40s 20s/step - loss: 0.4908 - accuracy: 0.7750 - val_loss: 0.6974 - val_accuracy: 0.4500 - lr: 1.0000e-04\n",
            "Epoch 4/10\n",
            "2/2 [==============================] - ETA: 0s - loss: 0.4587 - accuracy: 0.8167 \n",
            "Epoch 4: ReduceLROnPlateau reducing learning rate to 1.0000000474974514e-05.\n",
            "\n",
            "Epoch 4: val_loss did not improve from 0.68503\n",
            "2/2 [==============================] - 38s 20s/step - loss: 0.4587 - accuracy: 0.8167 - val_loss: 0.6989 - val_accuracy: 0.4500 - lr: 1.0000e-04\n",
            "Epoch 5/10\n",
            "2/2 [==============================] - ETA: 0s - loss: 0.4722 - accuracy: 0.8417 \n",
            "Epoch 5: val_loss did not improve from 0.68503\n",
            "2/2 [==============================] - 40s 22s/step - loss: 0.4722 - accuracy: 0.8417 - val_loss: 0.6992 - val_accuracy: 0.4833 - lr: 1.0000e-05\n",
            "Epoch 6/10\n",
            "2/2 [==============================] - ETA: 0s - loss: 0.5009 - accuracy: 0.7833 \n",
            "Epoch 6: val_loss did not improve from 0.68503\n",
            "2/2 [==============================] - 40s 20s/step - loss: 0.5009 - accuracy: 0.7833 - val_loss: 0.6992 - val_accuracy: 0.4667 - lr: 1.0000e-05\n",
            "Epoch 7/10\n",
            "2/2 [==============================] - ETA: 0s - loss: 0.4872 - accuracy: 0.8250 \n",
            "Epoch 7: ReduceLROnPlateau reducing learning rate to 1e-05.\n",
            "\n",
            "Epoch 7: val_loss did not improve from 0.68503\n",
            "2/2 [==============================] - 40s 21s/step - loss: 0.4872 - accuracy: 0.8250 - val_loss: 0.6987 - val_accuracy: 0.4833 - lr: 1.0000e-05\n",
            "Epoch 8/10\n",
            "2/2 [==============================] - ETA: 0s - loss: 0.4634 - accuracy: 0.8417 \n",
            "Epoch 8: val_loss did not improve from 0.68503\n",
            "2/2 [==============================] - 40s 24s/step - loss: 0.4634 - accuracy: 0.8417 - val_loss: 0.6987 - val_accuracy: 0.3833 - lr: 1.0000e-05\n",
            "Epoch 9/10\n",
            "2/2 [==============================] - ETA: 0s - loss: 0.4639 - accuracy: 0.8667 \n",
            "Epoch 9: val_loss did not improve from 0.68503\n",
            "2/2 [==============================] - 39s 21s/step - loss: 0.4639 - accuracy: 0.8667 - val_loss: 0.6991 - val_accuracy: 0.4000 - lr: 1.0000e-05\n",
            "Epoch 10/10\n",
            "2/2 [==============================] - ETA: 0s - loss: 0.4889 - accuracy: 0.8333 \n",
            "Epoch 10: val_loss did not improve from 0.68503\n",
            "2/2 [==============================] - 40s 24s/step - loss: 0.4889 - accuracy: 0.8333 - val_loss: 0.6993 - val_accuracy: 0.4333 - lr: 1.0000e-05\n"
          ]
        }
      ]
    },
    {
      "cell_type": "code",
      "source": [
        "model.save('my_model2.hdf5')"
      ],
      "metadata": {
        "id": "Q8xMKBmc4pQQ"
      },
      "execution_count": null,
      "outputs": []
    },
    {
      "cell_type": "code",
      "source": [
        "import matplotlib.pyplot as plt"
      ],
      "metadata": {
        "id": "TIPAcgy34VZ2"
      },
      "execution_count": null,
      "outputs": []
    },
    {
      "cell_type": "code",
      "source": [
        "# Plotting code\n",
        "plt.figure(figsize=[8,6])\n",
        "plt.plot(history.history['accuracy'], 'r', linewidth=2.0)\n",
        "plt.plot(history.history['val_accuracy'], 'b', linewidth=2.0)\n",
        "plt.legend(['Training accuracy', 'Validation accuracy'], fontsize=18)\n",
        "plt.xlabel('Epochs', fontsize=16)\n",
        "plt.ylabel('Accuracy', fontsize=16)\n",
        "plt.title('Training and Validation Accuracy', fontsize=16)\n",
        "plt.show()"
      ],
      "metadata": {
        "colab": {
          "base_uri": "https://localhost:8080/",
          "height": 572
        },
        "id": "bGh4V41331oD",
        "outputId": "2cca25f1-6563-4bcf-d271-b8244f884154"
      },
      "execution_count": null,
      "outputs": [
        {
          "output_type": "display_data",
          "data": {
            "text/plain": [
              "<Figure size 800x600 with 1 Axes>"
            ],
            "image/png": "[encoded data removed]"
          },
          "metadata": {}
        }
      ]
    }
  ]
}